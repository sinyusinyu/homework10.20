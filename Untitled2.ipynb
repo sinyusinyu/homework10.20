{
  "nbformat": 4,
  "nbformat_minor": 0,
  "metadata": {
    "colab": {
      "provenance": []
    },
    "kernelspec": {
      "name": "python3",
      "display_name": "Python 3"
    },
    "language_info": {
      "name": "python"
    }
  },
  "cells": [
    {
      "cell_type": "code",
      "execution_count": 6,
      "metadata": {
        "colab": {
          "base_uri": "https://localhost:8080/"
        },
        "id": "hpQD6Yw7A88-",
        "outputId": "8eca8e1e-963d-4df2-b582-847394c06f8c"
      },
      "outputs": [
        {
          "output_type": "stream",
          "name": "stdout",
          "text": [
            "請輸入數字:4\n",
            "1x1=1\n",
            "1x2=2\n",
            "1x3=3\n",
            "1x4=4\n",
            "2x1=2\n",
            "2x2=4\n",
            "2x3=6\n",
            "2x4=8\n",
            "3x1=3\n",
            "3x2=6\n",
            "3x3=9\n",
            "3x4=12\n",
            "4x1=4\n",
            "4x2=8\n",
            "4x3=12\n",
            "4x4=16\n",
            "\n"
          ]
        }
      ],
      "source": [
        "num_stir=input(\"請輸入數字:\")\n",
        "num=int(num_stir)\n",
        "for i in range(1,num+1):\n",
        "   for j in range(1,num+1):\n",
        "    product=i*j\n",
        "    print(f\"{i}x{j}={product}\")\n",
        "print()"
      ]
    },
    {
      "cell_type": "code",
      "source": [
        "import random\n",
        "target_number=random.randint(1,100)\n",
        "print(\"歡迎參加猜數字遊戲！\")\n",
        "num_stir=input(\"請輸入即將要猜的數字\")\n",
        "num=int(num_stir)\n",
        "\n",
        "while(num!=target_number):\n",
        "  if(num>target_number):\n",
        "    print(\"too large\")\n",
        "    num_stir=input(\"請你再猜一次\")\n",
        "    num=int(num_stir)\n",
        "  elif(num<target_number):\n",
        "    print(\"too small\")\n",
        "    num_stir=input(\"請你再猜一次\")\n",
        "    num=int(num_stir)\n",
        "\n",
        "print(\"恭喜你答對囉!\")\n",
        "print(\"遊戲結束。\")"
      ],
      "metadata": {
        "colab": {
          "base_uri": "https://localhost:8080/"
        },
        "id": "qGNMy_nVBD4l",
        "outputId": "5e77120e-fdfe-4d28-dd0a-b705e4d8dbbe"
      },
      "execution_count": 7,
      "outputs": [
        {
          "output_type": "stream",
          "name": "stdout",
          "text": [
            "歡迎參加猜數字遊戲！\n",
            "請輸入即將要猜的數字2\n",
            "too small\n",
            "請你再猜一次80\n",
            "too small\n",
            "請你再猜一次55\n",
            "too small\n",
            "請你再猜一次99\n",
            "too large\n",
            "請你再猜一次88\n",
            "too small\n",
            "請你再猜一次95\n",
            "too small\n",
            "請你再猜一次98\n",
            "too large\n",
            "請你再猜一次97\n",
            "too large\n",
            "請你再猜一次96\n",
            "恭喜你答對囉!\n",
            "遊戲結束。\n"
          ]
        }
      ]
    }
  ]
}